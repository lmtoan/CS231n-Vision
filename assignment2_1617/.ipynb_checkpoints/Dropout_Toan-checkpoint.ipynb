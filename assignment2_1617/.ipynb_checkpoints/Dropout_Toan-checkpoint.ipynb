{
 "cells": [
  {
   "cell_type": "markdown",
   "metadata": {
    "deletable": true,
    "editable": true
   },
   "source": [
    "# Dropout\n",
    "Dropout [1] is a technique for regularizing neural networks by randomly setting some features to zero during the forward pass. In this exercise you will implement a dropout layer and modify your fully-connected network to optionally use dropout.\n",
    "\n",
    "[1] Geoffrey E. Hinton et al, \"Improving neural networks by preventing co-adaptation of feature detectors\", arXiv 2012"
   ]
  },
  {
   "cell_type": "code",
   "execution_count": 1,
   "metadata": {
    "collapsed": false,
    "deletable": true,
    "editable": true
   },
   "outputs": [],
   "source": [
    "# As usual, a bit of setup\n",
    "from __future__ import print_function\n",
    "import time\n",
    "import numpy as np\n",
    "import matplotlib.pyplot as plt\n",
    "from cs231n.classifiers.fc_net import *\n",
    "from cs231n.data_utils import get_CIFAR10_data\n",
    "from cs231n.gradient_check import eval_numerical_gradient, eval_numerical_gradient_array\n",
    "from cs231n.solver import Solver\n",
    "\n",
    "%matplotlib inline\n",
    "plt.rcParams['figure.figsize'] = (10.0, 8.0) # set default size of plots\n",
    "plt.rcParams['image.interpolation'] = 'nearest'\n",
    "plt.rcParams['image.cmap'] = 'gray'\n",
    "\n",
    "# for auto-reloading external modules\n",
    "# see http://stackoverflow.com/questions/1907993/autoreload-of-modules-in-ipython\n",
    "%load_ext autoreload\n",
    "%autoreload 2\n",
    "\n",
    "def rel_error(x, y):\n",
    "  \"\"\" returns relative error \"\"\"\n",
    "  return np.max(np.abs(x - y) / (np.maximum(1e-8, np.abs(x) + np.abs(y))))"
   ]
  },
  {
   "cell_type": "code",
   "execution_count": 2,
   "metadata": {
    "collapsed": false,
    "deletable": true,
    "editable": true
   },
   "outputs": [
    {
     "name": "stdout",
     "output_type": "stream",
     "text": [
      "y_test:  (1000,)\n",
      "y_val:  (1000,)\n",
      "X_val:  (1000, 3, 32, 32)\n",
      "X_train:  (49000, 3, 32, 32)\n",
      "y_train:  (49000,)\n",
      "X_test:  (1000, 3, 32, 32)\n"
     ]
    }
   ],
   "source": [
    "# Load the (preprocessed) CIFAR10 data.\n",
    "\n",
    "data = get_CIFAR10_data()\n",
    "for k, v in data.items():\n",
    "  print('%s: ' % k, v.shape)"
   ]
  },
  {
   "cell_type": "markdown",
   "metadata": {
    "deletable": true,
    "editable": true
   },
   "source": [
    "# Dropout forward pass\n",
    "In the file `cs231n/layers.py`, implement the forward pass for dropout. Since dropout behaves differently during training and testing, make sure to implement the operation for both modes.\n",
    "\n",
    "Once you have done so, run the cell below to test your implementation."
   ]
  },
  {
   "cell_type": "code",
   "execution_count": 3,
   "metadata": {
    "collapsed": false,
    "deletable": true,
    "editable": true
   },
   "outputs": [
    {
     "name": "stdout",
     "output_type": "stream",
     "text": [
      "Running tests with p =  0.3\n",
      "Mean of input:  10.0002078785\n",
      "Mean of train-time output:  10.0350727971\n",
      "Mean of test-time output:  10.0002078785\n",
      "Fraction of train-time output set to zero:  0.699124\n",
      "Fraction of test-time output set to zero:  0.0\n",
      "\n",
      "Running tests with p =  0.6\n",
      "Mean of input:  10.0002078785\n",
      "Mean of train-time output:  9.97691075877\n",
      "Mean of test-time output:  10.0002078785\n",
      "Fraction of train-time output set to zero:  0.401368\n",
      "Fraction of test-time output set to zero:  0.0\n",
      "\n",
      "Running tests with p =  0.75\n",
      "Mean of input:  10.0002078785\n",
      "Mean of train-time output:  9.99306858826\n",
      "Mean of test-time output:  10.0002078785\n",
      "Fraction of train-time output set to zero:  0.250496\n",
      "Fraction of test-time output set to zero:  0.0\n",
      "\n"
     ]
    }
   ],
   "source": [
    "np.random.seed(231)\n",
    "x = np.random.randn(500, 500) + 10\n",
    "\n",
    "for p in [0.3, 0.6, 0.75]:\n",
    "  out, _ = dropout_forward(x, {'mode': 'train', 'p': p})\n",
    "  out_test, _ = dropout_forward(x, {'mode': 'test', 'p': p})\n",
    "\n",
    "  print('Running tests with p = ', p)\n",
    "  print('Mean of input: ', x.mean())\n",
    "  print('Mean of train-time output: ', out.mean())\n",
    "  print('Mean of test-time output: ', out_test.mean())\n",
    "  print('Fraction of train-time output set to zero: ', (out == 0).mean())\n",
    "  print('Fraction of test-time output set to zero: ', (out_test == 0).mean())\n",
    "  print()"
   ]
  },
  {
   "cell_type": "markdown",
   "metadata": {
    "deletable": true,
    "editable": true
   },
   "source": [
    "# Dropout backward pass\n",
    "In the file `cs231n/layers.py`, implement the backward pass for dropout. After doing so, run the following cell to numerically gradient-check your implementation."
   ]
  },
  {
   "cell_type": "code",
   "execution_count": 4,
   "metadata": {
    "collapsed": false,
    "deletable": true,
    "editable": true
   },
   "outputs": [
    {
     "name": "stdout",
     "output_type": "stream",
     "text": [
      "dx relative error:  5.44561271827e-11\n"
     ]
    }
   ],
   "source": [
    "np.random.seed(231)\n",
    "x = np.random.randn(10, 10) + 10\n",
    "dout = np.random.randn(*x.shape)\n",
    "\n",
    "dropout_param = {'mode': 'train', 'p': 0.8, 'seed': 123}\n",
    "out, cache = dropout_forward(x, dropout_param)\n",
    "dx = dropout_backward(dout, cache)\n",
    "dx_num = eval_numerical_gradient_array(lambda xx: dropout_forward(xx, dropout_param)[0], x, dout)\n",
    "\n",
    "print('dx relative error: ', rel_error(dx, dx_num))"
   ]
  },
  {
   "cell_type": "markdown",
   "metadata": {
    "deletable": true,
    "editable": true
   },
   "source": [
    "# Fully-connected nets with Dropout\n",
    "In the file `cs231n/classifiers/fc_net.py`, modify your implementation to use dropout. Specificially, if the constructor the the net receives a nonzero value for the `dropout` parameter, then the net should add dropout immediately after every ReLU nonlinearity. After doing so, run the following to numerically gradient-check your implementation."
   ]
  },
  {
   "cell_type": "code",
   "execution_count": 24,
   "metadata": {
    "collapsed": false,
    "deletable": true,
    "editable": true
   },
   "outputs": [
    {
     "name": "stdout",
     "output_type": "stream",
     "text": [
      "Running check with dropout =  0\n",
      "Initial loss:  2.30305969832\n",
      "W_1 relative error: 3.04e-07\n",
      "W_2 relative error: 9.48e-06\n",
      "W_3 relative error: 1.14e-07\n",
      "b_1 relative error: 1.19e-08\n",
      "b_2 relative error: 1.90e-08\n",
      "b_3 relative error: 1.45e-10\n",
      "\n",
      "Running check with dropout =  0.25\n",
      "Initial loss:  2.30097079862\n",
      "W_1 relative error: 6.90e-09\n",
      "W_2 relative error: 3.13e-09\n",
      "W_3 relative error: 2.42e-09\n",
      "b_1 relative error: 1.29e-10\n",
      "b_2 relative error: 5.54e-09\n",
      "b_3 relative error: 1.71e-10\n",
      "\n",
      "Running check with dropout =  0.5\n",
      "Initial loss:  2.30410588143\n",
      "W_1 relative error: 5.14e-07\n",
      "W_2 relative error: 1.13e-07\n",
      "W_3 relative error: 6.95e-08\n",
      "b_1 relative error: 3.16e-08\n",
      "b_2 relative error: 4.40e-09\n",
      "b_3 relative error: 2.10e-10\n",
      "\n"
     ]
    }
   ],
   "source": [
    "np.random.seed(231)\n",
    "N, D, H1, H2, C = 2, 15, 20, 30, 10\n",
    "X = np.random.randn(N, D)\n",
    "y = np.random.randint(C, size=(N,))\n",
    "\n",
    "for dropout in [0, 0.25, 0.5]:\n",
    "  print('Running check with dropout = ', dropout)\n",
    "  model = FullyConnectedNet([H1, H2], input_dim=D, num_classes=C,\n",
    "                            weight_scale=5e-2, dtype=np.float64,\n",
    "                            dropout=dropout, seed=123)\n",
    "\n",
    "  loss, grads = model.loss(X, y)\n",
    "  print('Initial loss: ', loss)\n",
    "\n",
    "  for name in sorted(grads):\n",
    "    f = lambda _: model.loss(X, y)[0]\n",
    "    grad_num = eval_numerical_gradient(f, model.params[name], verbose=False, h=1e-5)\n",
    "    print('%s relative error: %.2e' % (name, rel_error(grad_num, grads[name])))\n",
    "  print()"
   ]
  },
  {
   "cell_type": "markdown",
   "metadata": {
    "deletable": true,
    "editable": true
   },
   "source": [
    "# Regularization experiment\n",
    "As an experiment, we will train a pair of two-layer networks on 500 training examples: one will use no dropout, and one will use a dropout probability of 0.75. We will then visualize the training and validation accuracies of the two networks over time."
   ]
  },
  {
   "cell_type": "code",
   "execution_count": 25,
   "metadata": {
    "collapsed": false,
    "deletable": true,
    "editable": true,
    "scrolled": false
   },
   "outputs": [
    {
     "name": "stdout",
     "output_type": "stream",
     "text": [
      "0\n",
      "(Iteration 1 / 125) loss: 6.485370\n",
      "(Epoch 0 / 25) train acc: 0.192000; val_acc: 0.169000\n",
      "(Epoch 1 / 25) train acc: 0.314000; val_acc: 0.185000\n",
      "(Epoch 2 / 25) train acc: 0.350000; val_acc: 0.165000\n",
      "(Epoch 3 / 25) train acc: 0.354000; val_acc: 0.157000\n",
      "(Epoch 4 / 25) train acc: 0.320000; val_acc: 0.131000\n",
      "(Epoch 5 / 25) train acc: 0.306000; val_acc: 0.133000\n",
      "(Epoch 6 / 25) train acc: 0.304000; val_acc: 0.120000\n",
      "(Epoch 7 / 25) train acc: 0.310000; val_acc: 0.122000\n",
      "(Epoch 8 / 25) train acc: 0.320000; val_acc: 0.130000\n",
      "(Epoch 9 / 25) train acc: 0.334000; val_acc: 0.144000\n",
      "(Epoch 10 / 25) train acc: 0.344000; val_acc: 0.151000\n",
      "(Epoch 11 / 25) train acc: 0.350000; val_acc: 0.158000\n",
      "(Epoch 12 / 25) train acc: 0.336000; val_acc: 0.135000\n",
      "(Epoch 13 / 25) train acc: 0.334000; val_acc: 0.141000\n",
      "(Epoch 14 / 25) train acc: 0.336000; val_acc: 0.131000\n",
      "(Epoch 15 / 25) train acc: 0.336000; val_acc: 0.131000\n",
      "(Epoch 16 / 25) train acc: 0.340000; val_acc: 0.135000\n",
      "(Epoch 17 / 25) train acc: 0.348000; val_acc: 0.142000\n",
      "(Epoch 18 / 25) train acc: 0.352000; val_acc: 0.152000\n",
      "(Epoch 19 / 25) train acc: 0.350000; val_acc: 0.137000\n",
      "(Epoch 20 / 25) train acc: 0.356000; val_acc: 0.144000\n",
      "(Iteration 101 / 125) loss: 1.739208\n",
      "(Epoch 21 / 25) train acc: 0.354000; val_acc: 0.145000\n",
      "(Epoch 22 / 25) train acc: 0.366000; val_acc: 0.148000\n",
      "(Epoch 23 / 25) train acc: 0.364000; val_acc: 0.160000\n",
      "(Epoch 24 / 25) train acc: 0.368000; val_acc: 0.146000\n",
      "(Epoch 25 / 25) train acc: 0.366000; val_acc: 0.144000\n",
      "0.75\n",
      "(Iteration 1 / 125) loss: 7.218394\n",
      "(Epoch 0 / 25) train acc: 0.152000; val_acc: 0.132000\n",
      "(Epoch 1 / 25) train acc: 0.180000; val_acc: 0.129000\n",
      "(Epoch 2 / 25) train acc: 0.174000; val_acc: 0.110000\n",
      "(Epoch 3 / 25) train acc: 0.138000; val_acc: 0.092000\n",
      "(Epoch 4 / 25) train acc: 0.146000; val_acc: 0.093000\n",
      "(Epoch 5 / 25) train acc: 0.152000; val_acc: 0.097000\n",
      "(Epoch 6 / 25) train acc: 0.156000; val_acc: 0.098000\n",
      "(Epoch 7 / 25) train acc: 0.154000; val_acc: 0.096000\n",
      "(Epoch 8 / 25) train acc: 0.152000; val_acc: 0.094000\n",
      "(Epoch 9 / 25) train acc: 0.152000; val_acc: 0.091000\n",
      "(Epoch 10 / 25) train acc: 0.152000; val_acc: 0.089000\n",
      "(Epoch 11 / 25) train acc: 0.154000; val_acc: 0.089000\n",
      "(Epoch 12 / 25) train acc: 0.154000; val_acc: 0.090000\n",
      "(Epoch 13 / 25) train acc: 0.158000; val_acc: 0.093000\n",
      "(Epoch 14 / 25) train acc: 0.160000; val_acc: 0.095000\n",
      "(Epoch 15 / 25) train acc: 0.162000; val_acc: 0.095000\n",
      "(Epoch 16 / 25) train acc: 0.162000; val_acc: 0.097000\n",
      "(Epoch 17 / 25) train acc: 0.170000; val_acc: 0.101000\n",
      "(Epoch 18 / 25) train acc: 0.180000; val_acc: 0.106000\n",
      "(Epoch 19 / 25) train acc: 0.184000; val_acc: 0.110000\n",
      "(Epoch 20 / 25) train acc: 0.178000; val_acc: 0.103000\n",
      "(Iteration 101 / 125) loss: 2.072337\n",
      "(Epoch 21 / 25) train acc: 0.180000; val_acc: 0.098000\n",
      "(Epoch 22 / 25) train acc: 0.178000; val_acc: 0.098000\n",
      "(Epoch 23 / 25) train acc: 0.184000; val_acc: 0.098000\n",
      "(Epoch 24 / 25) train acc: 0.180000; val_acc: 0.097000\n",
      "(Epoch 25 / 25) train acc: 0.176000; val_acc: 0.099000\n"
     ]
    }
   ],
   "source": [
    "# Train two identical nets, one with dropout and one without\n",
    "np.random.seed(231)\n",
    "num_train = 500\n",
    "small_data = {\n",
    "  'X_train': data['X_train'][:num_train],\n",
    "  'y_train': data['y_train'][:num_train],\n",
    "  'X_val': data['X_val'],\n",
    "  'y_val': data['y_val'],\n",
    "}\n",
    "\n",
    "solvers = {}\n",
    "#dropout_choices = [0, 0.25, 0.5, 0.75, 0.8]\n",
    "dropout_choices = [0, 0.75]\n",
    "for dropout in dropout_choices:\n",
    "  model = FullyConnectedNet([500], dropout=dropout)\n",
    "  print(dropout)\n",
    "\n",
    "  solver = Solver(model, small_data,\n",
    "                  num_epochs=25, batch_size=100,\n",
    "                  update_rule='adam',\n",
    "                  optim_config={\n",
    "                    'learning_rate': 5e-4,\n",
    "                  },\n",
    "                  verbose=True, print_every=100)\n",
    "  solver.train()\n",
    "  solvers[dropout] = solver"
   ]
  },
  {
   "cell_type": "code",
   "execution_count": 14,
   "metadata": {
    "collapsed": false,
    "deletable": true,
    "editable": true
   },
   "outputs": [
    {
     "data": {
      "image/png": "[encoded data removed]",
      "text/plain": [
       "<matplotlib.figure.Figure at 0x7f1c0367d978>"
      ]
     },
     "metadata": {},
     "output_type": "display_data"
    }
   ],
   "source": [
    "# Plot train and validation accuracies of the two models\n",
    "\n",
    "train_accs = []\n",
    "val_accs = []\n",
    "for dropout in dropout_choices:\n",
    "  solver = solvers[dropout]\n",
    "  train_accs.append(solver.train_acc_history[-1])\n",
    "  val_accs.append(solver.val_acc_history[-1])\n",
    "\n",
    "plt.subplot(3, 1, 1)\n",
    "for dropout in dropout_choices:\n",
    "  plt.plot(solvers[dropout].train_acc_history, 'o', label='%.2f dropout' % dropout)\n",
    "plt.title('Train accuracy')\n",
    "plt.xlabel('Epoch')\n",
    "plt.ylabel('Accuracy')\n",
    "plt.legend(ncol=2, loc='lower right')\n",
    "  \n",
    "plt.subplot(3, 1, 2)\n",
    "for dropout in dropout_choices:\n",
    "  plt.plot(solvers[dropout].val_acc_history, 'o', label='%.2f dropout' % dropout)\n",
    "plt.title('Val accuracy')\n",
    "plt.xlabel('Epoch')\n",
    "plt.ylabel('Accuracy')\n",
    "plt.legend(ncol=2, loc='lower right')\n",
    "\n",
    "plt.gcf().set_size_inches(15, 15)\n",
    "plt.show()"
   ]
  },
  {
   "cell_type": "markdown",
   "metadata": {
    "deletable": true,
    "editable": true
   },
   "source": [
    "# Question\n",
    "Explain what you see in this experiment. What does it suggest about dropout?"
   ]
  },
  {
   "cell_type": "markdown",
   "metadata": {
    "deletable": true,
    "editable": true
   },
   "source": [
    "# Answer\n"
   ]
  }
 ],
 "metadata": {
  "kernelspec": {
   "display_name": "Python 3",
   "language": "python",
   "name": "python3"
  },
  "language_info": {
   "codemirror_mode": {
    "name": "ipython",
    "version": 3
   },
   "file_extension": ".py",
   "mimetype": "text/x-python",
   "name": "python",
   "nbconvert_exporter": "python",
   "pygments_lexer": "ipython3",
   "version": "3.5.2"
  }
 },
 "nbformat": 4,
 "nbformat_minor": 0
}
